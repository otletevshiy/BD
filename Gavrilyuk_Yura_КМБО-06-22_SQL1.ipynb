{
 "cells": [
  {
   "cell_type": "code",
   "execution_count": 1,
   "id": "a0a4da5a-3724-4646-896e-47114eba6ed1",
   "metadata": {},
   "outputs": [],
   "source": [
    "%load_ext sql\n",
    "%sql sqlite://"
   ]
  },
  {
   "cell_type": "code",
   "execution_count": 2,
   "id": "b538691e-544d-4710-84a4-9bc4c9a2c35e",
   "metadata": {},
   "outputs": [
    {
     "name": "stdout",
     "output_type": "stream",
     "text": [
      " * sqlite://\n",
      "Done.\n",
      "Done.\n",
      "Done.\n"
     ]
    },
    {
     "data": {
      "text/plain": [
       "[]"
      ]
     },
     "execution_count": 2,
     "metadata": {},
     "output_type": "execute_result"
    }
   ],
   "source": [
    "%%sql\n",
    "drop table if exists Students;\n",
    "drop table if exists Specialities;\n",
    "\n",
    "CREATE TABLE Specialities\n",
    "(\n",
    "    id integer primary key,\n",
    "    Name varchar(50)\n",
    ");"
   ]
  },
  {
   "cell_type": "code",
   "execution_count": 3,
   "id": "15f59fa8-3187-4e04-ba97-136f6430f37b",
   "metadata": {},
   "outputs": [
    {
     "name": "stdout",
     "output_type": "stream",
     "text": [
      " * sqlite://\n",
      "1 rows affected.\n",
      "1 rows affected.\n",
      "1 rows affected.\n",
      "1 rows affected.\n",
      "1 rows affected.\n",
      "1 rows affected.\n",
      "1 rows affected.\n"
     ]
    },
    {
     "data": {
      "text/plain": [
       "[]"
      ]
     },
     "execution_count": 3,
     "metadata": {},
     "output_type": "execute_result"
    }
   ],
   "source": [
    "%%sql\n",
    "insert Into Specialities(id, name) values (1, 'Биотехнические системы и технологии');\n",
    "insert Into Specialities(id, name) values (2, 'Компьютерная безопасность');\n",
    "insert Into Specialities(id, name) values (3, 'Прикладная математика и информатика');\n",
    "insert Into Specialities(id, name) values (4, 'Мехатроника и робототехника');\n",
    "insert Into Specialities(id, name) values (5, 'Системный анализ и управление');\n",
    "insert Into Specialities(id, name) values (6, 'Информационная безопасность телекоммуникационных систем');\n",
    "insert Into Specialities(id, name) values (7, 'Управление в технических системах');"
   ]
  },
  {
   "cell_type": "code",
   "execution_count": 4,
   "id": "0fe0acc0-ac68-4d96-8731-8332ab73fcc8",
   "metadata": {},
   "outputs": [
    {
     "name": "stdout",
     "output_type": "stream",
     "text": [
      " * sqlite://\n",
      "Done.\n"
     ]
    },
    {
     "data": {
      "text/plain": [
       "[]"
      ]
     },
     "execution_count": 4,
     "metadata": {},
     "output_type": "execute_result"
    }
   ],
   "source": [
    "%%sql\n",
    "PRAGMA foreign_keys = ON;"
   ]
  },
  {
   "cell_type": "code",
   "execution_count": 5,
   "id": "9fced8e5-d8b5-49c3-b9aa-d0845dd47cfe",
   "metadata": {},
   "outputs": [
    {
     "name": "stdout",
     "output_type": "stream",
     "text": [
      " * sqlite://\n",
      "Done.\n",
      "Done.\n"
     ]
    },
    {
     "data": {
      "text/plain": [
       "[]"
      ]
     },
     "execution_count": 5,
     "metadata": {},
     "output_type": "execute_result"
    }
   ],
   "source": [
    "%%sql\n",
    "drop table if exists Students;\n",
    "\n",
    "CREATE TABLE Students\n",
    "(\n",
    "    student_id integer primary key,\n",
    "    Name varchar(50),\n",
    "    SecondName varchar(50),\n",
    "    Speciality_id integer ,\n",
    "    StudyGroup varchar(20),\n",
    "    GPA number,\n",
    "    foreign key(Speciality_id) references Specialities(id)\n",
    ");"
   ]
  },
  {
   "cell_type": "code",
   "execution_count": 6,
   "id": "b84a9445-5e78-4723-a710-234619152e2d",
   "metadata": {},
   "outputs": [
    {
     "name": "stdout",
     "output_type": "stream",
     "text": [
      " * sqlite://\n",
      "Done.\n"
     ]
    },
    {
     "data": {
      "text/html": [
       "<table>\n",
       "    <thead>\n",
       "        <tr>\n",
       "            <th>student_id</th>\n",
       "            <th>Name</th>\n",
       "            <th>SecondName</th>\n",
       "            <th>Speciality_id</th>\n",
       "            <th>StudyGroup</th>\n",
       "            <th>GPA</th>\n",
       "        </tr>\n",
       "    </thead>\n",
       "    <tbody>\n",
       "    </tbody>\n",
       "</table>"
      ],
      "text/plain": [
       "[]"
      ]
     },
     "execution_count": 6,
     "metadata": {},
     "output_type": "execute_result"
    }
   ],
   "source": [
    "%sql select * from Students"
   ]
  },
  {
   "cell_type": "code",
   "execution_count": 7,
   "id": "42e11d4f-cc21-42e9-bf2a-3ef251231edd",
   "metadata": {},
   "outputs": [
    {
     "name": "stdout",
     "output_type": "stream",
     "text": [
      " * sqlite://\n",
      "1 rows affected.\n",
      "1 rows affected.\n",
      "1 rows affected.\n",
      "1 rows affected.\n",
      "1 rows affected.\n",
      "1 rows affected.\n",
      "1 rows affected.\n",
      "1 rows affected.\n",
      "1 rows affected.\n",
      "1 rows affected.\n",
      "1 rows affected.\n",
      "1 rows affected.\n",
      "1 rows affected.\n",
      "1 rows affected.\n"
     ]
    },
    {
     "data": {
      "text/plain": [
       "[]"
      ]
     },
     "execution_count": 7,
     "metadata": {},
     "output_type": "execute_result"
    }
   ],
   "source": [
    "%%sql\n",
    "insert into Students(student_id, SecondName, Name, Speciality_id, StudyGroup, GPA) VALUES (1, 'Альянов', 'Николай', 1, '04-20', 3.58);\n",
    "insert into Students(student_id, SecondName, Name, Speciality_id, StudyGroup, GPA) VALUES (2, 'Крыгина', 'Ева', 1, '01-20', 4.58);\n",
    "insert into Students(student_id, SecondName, Name, Speciality_id, StudyGroup, GPA) VALUES (3, 'Исаева', 'Анна', 1, '01-20', 4.75);\n",
    "insert into Students(student_id, SecondName, Name, Speciality_id, StudyGroup, GPA) VALUES (4, 'Егоров', 'Павел', 2, '01-20', 4.83);\n",
    "insert into Students(student_id, SecondName, Name, Speciality_id, StudyGroup, GPA) VALUES (5, 'Тихомиров', 'Тимофей', 2, '03-20', 4.18);\n",
    "insert into Students(student_id, SecondName, Name, Speciality_id, StudyGroup, GPA) VALUES (6, 'Ширшов', 'Александр', 2, '06-20', 3.91);\n",
    "insert into Students(student_id, SecondName, Name, Speciality_id, StudyGroup, GPA) VALUES (7, 'Фатеев', 'Максим', 3, '05-20', 3.8);\n",
    "insert into Students(student_id, SecondName, Name, Speciality_id, StudyGroup, GPA) VALUES (8, 'Киселев', 'Петр',  3, '05-20', 3.5);\n",
    "insert into Students(student_id, SecondName, Name, Speciality_id, StudyGroup, GPA) VALUES (9, 'Агашкина', 'Дарья', 4, '02-20', 4.18);\n",
    "insert into Students(student_id, SecondName, Name, Speciality_id, StudyGroup, GPA) VALUES (10, 'Горин', 'Олег', 5, '01-20', 3.89);\n",
    "insert into Students(student_id, SecondName, Name, Speciality_id, StudyGroup, GPA) VALUES (11, 'Комарова', 'Екатерина', 6, '02-20', 4.83);\n",
    "insert into Students(student_id, SecondName, Name, Speciality_id, StudyGroup, GPA) VALUES (12, 'Челыхов', 'Иван', 6, '06-20', 4.45);\n",
    "insert into Students(student_id, SecondName, Name, Speciality_id, StudyGroup, GPA) VALUES (13, 'Назаров', 'Александр', 6, '06-20', 3.73);\n",
    "insert into Students(student_id, SecondName, Name, Speciality_id, StudyGroup, GPA) VALUES (14, 'Горлова', 'Ксения', 7, '01-20', 5);"
   ]
  },
  {
   "cell_type": "code",
   "execution_count": 8,
   "id": "f5711828-fa56-4350-a12b-6cfe7e35e7e2",
   "metadata": {},
   "outputs": [
    {
     "name": "stdout",
     "output_type": "stream",
     "text": [
      " * sqlite://\n",
      "Done.\n"
     ]
    },
    {
     "data": {
      "text/html": [
       "<table>\n",
       "    <thead>\n",
       "        <tr>\n",
       "            <th>student_id</th>\n",
       "            <th>Name</th>\n",
       "            <th>SecondName</th>\n",
       "            <th>Speciality_id</th>\n",
       "            <th>StudyGroup</th>\n",
       "            <th>GPA</th>\n",
       "        </tr>\n",
       "    </thead>\n",
       "    <tbody>\n",
       "        <tr>\n",
       "            <td>1</td>\n",
       "            <td>Николай</td>\n",
       "            <td>Альянов</td>\n",
       "            <td>1</td>\n",
       "            <td>04-20</td>\n",
       "            <td>3.58</td>\n",
       "        </tr>\n",
       "        <tr>\n",
       "            <td>2</td>\n",
       "            <td>Ева</td>\n",
       "            <td>Крыгина</td>\n",
       "            <td>1</td>\n",
       "            <td>01-20</td>\n",
       "            <td>4.58</td>\n",
       "        </tr>\n",
       "        <tr>\n",
       "            <td>3</td>\n",
       "            <td>Анна</td>\n",
       "            <td>Исаева</td>\n",
       "            <td>1</td>\n",
       "            <td>01-20</td>\n",
       "            <td>4.75</td>\n",
       "        </tr>\n",
       "        <tr>\n",
       "            <td>4</td>\n",
       "            <td>Павел</td>\n",
       "            <td>Егоров</td>\n",
       "            <td>2</td>\n",
       "            <td>01-20</td>\n",
       "            <td>4.83</td>\n",
       "        </tr>\n",
       "        <tr>\n",
       "            <td>5</td>\n",
       "            <td>Тимофей</td>\n",
       "            <td>Тихомиров</td>\n",
       "            <td>2</td>\n",
       "            <td>03-20</td>\n",
       "            <td>4.18</td>\n",
       "        </tr>\n",
       "        <tr>\n",
       "            <td>6</td>\n",
       "            <td>Александр</td>\n",
       "            <td>Ширшов</td>\n",
       "            <td>2</td>\n",
       "            <td>06-20</td>\n",
       "            <td>3.91</td>\n",
       "        </tr>\n",
       "        <tr>\n",
       "            <td>7</td>\n",
       "            <td>Максим</td>\n",
       "            <td>Фатеев</td>\n",
       "            <td>3</td>\n",
       "            <td>05-20</td>\n",
       "            <td>3.8</td>\n",
       "        </tr>\n",
       "        <tr>\n",
       "            <td>8</td>\n",
       "            <td>Петр</td>\n",
       "            <td>Киселев</td>\n",
       "            <td>3</td>\n",
       "            <td>05-20</td>\n",
       "            <td>3.5</td>\n",
       "        </tr>\n",
       "        <tr>\n",
       "            <td>9</td>\n",
       "            <td>Дарья</td>\n",
       "            <td>Агашкина</td>\n",
       "            <td>4</td>\n",
       "            <td>02-20</td>\n",
       "            <td>4.18</td>\n",
       "        </tr>\n",
       "        <tr>\n",
       "            <td>10</td>\n",
       "            <td>Олег</td>\n",
       "            <td>Горин</td>\n",
       "            <td>5</td>\n",
       "            <td>01-20</td>\n",
       "            <td>3.89</td>\n",
       "        </tr>\n",
       "        <tr>\n",
       "            <td>11</td>\n",
       "            <td>Екатерина</td>\n",
       "            <td>Комарова</td>\n",
       "            <td>6</td>\n",
       "            <td>02-20</td>\n",
       "            <td>4.83</td>\n",
       "        </tr>\n",
       "        <tr>\n",
       "            <td>12</td>\n",
       "            <td>Иван</td>\n",
       "            <td>Челыхов</td>\n",
       "            <td>6</td>\n",
       "            <td>06-20</td>\n",
       "            <td>4.45</td>\n",
       "        </tr>\n",
       "        <tr>\n",
       "            <td>13</td>\n",
       "            <td>Александр</td>\n",
       "            <td>Назаров</td>\n",
       "            <td>6</td>\n",
       "            <td>06-20</td>\n",
       "            <td>3.73</td>\n",
       "        </tr>\n",
       "        <tr>\n",
       "            <td>14</td>\n",
       "            <td>Ксения</td>\n",
       "            <td>Горлова</td>\n",
       "            <td>7</td>\n",
       "            <td>01-20</td>\n",
       "            <td>5</td>\n",
       "        </tr>\n",
       "    </tbody>\n",
       "</table>"
      ],
      "text/plain": [
       "[(1, 'Николай', 'Альянов', 1, '04-20', 3.58),\n",
       " (2, 'Ева', 'Крыгина', 1, '01-20', 4.58),\n",
       " (3, 'Анна', 'Исаева', 1, '01-20', 4.75),\n",
       " (4, 'Павел', 'Егоров', 2, '01-20', 4.83),\n",
       " (5, 'Тимофей', 'Тихомиров', 2, '03-20', 4.18),\n",
       " (6, 'Александр', 'Ширшов', 2, '06-20', 3.91),\n",
       " (7, 'Максим', 'Фатеев', 3, '05-20', 3.8),\n",
       " (8, 'Петр', 'Киселев', 3, '05-20', 3.5),\n",
       " (9, 'Дарья', 'Агашкина', 4, '02-20', 4.18),\n",
       " (10, 'Олег', 'Горин', 5, '01-20', 3.89),\n",
       " (11, 'Екатерина', 'Комарова', 6, '02-20', 4.83),\n",
       " (12, 'Иван', 'Челыхов', 6, '06-20', 4.45),\n",
       " (13, 'Александр', 'Назаров', 6, '06-20', 3.73),\n",
       " (14, 'Ксения', 'Горлова', 7, '01-20', 5)]"
      ]
     },
     "execution_count": 8,
     "metadata": {},
     "output_type": "execute_result"
    }
   ],
   "source": [
    "%sql select * from Students\n"
   ]
  },
  {
   "cell_type": "code",
   "execution_count": 9,
   "id": "83d04562-2a5d-4220-b27e-a5db36147ed5",
   "metadata": {},
   "outputs": [
    {
     "name": "stdout",
     "output_type": "stream",
     "text": [
      " * sqlite://\n",
      "Done.\n"
     ]
    },
    {
     "data": {
      "text/html": [
       "<table>\n",
       "    <thead>\n",
       "        <tr>\n",
       "            <th>id</th>\n",
       "            <th>Name</th>\n",
       "        </tr>\n",
       "    </thead>\n",
       "    <tbody>\n",
       "        <tr>\n",
       "            <td>1</td>\n",
       "            <td>Биотехнические системы и технологии</td>\n",
       "        </tr>\n",
       "        <tr>\n",
       "            <td>2</td>\n",
       "            <td>Компьютерная безопасность</td>\n",
       "        </tr>\n",
       "        <tr>\n",
       "            <td>3</td>\n",
       "            <td>Прикладная математика и информатика</td>\n",
       "        </tr>\n",
       "        <tr>\n",
       "            <td>4</td>\n",
       "            <td>Мехатроника и робототехника</td>\n",
       "        </tr>\n",
       "        <tr>\n",
       "            <td>5</td>\n",
       "            <td>Системный анализ и управление</td>\n",
       "        </tr>\n",
       "        <tr>\n",
       "            <td>6</td>\n",
       "            <td>Информационная безопасность телекоммуникационных систем</td>\n",
       "        </tr>\n",
       "        <tr>\n",
       "            <td>7</td>\n",
       "            <td>Управление в технических системах</td>\n",
       "        </tr>\n",
       "    </tbody>\n",
       "</table>"
      ],
      "text/plain": [
       "[(1, 'Биотехнические системы и технологии'),\n",
       " (2, 'Компьютерная безопасность'),\n",
       " (3, 'Прикладная математика и информатика'),\n",
       " (4, 'Мехатроника и робототехника'),\n",
       " (5, 'Системный анализ и управление'),\n",
       " (6, 'Информационная безопасность телекоммуникационных систем'),\n",
       " (7, 'Управление в технических системах')]"
      ]
     },
     "execution_count": 9,
     "metadata": {},
     "output_type": "execute_result"
    }
   ],
   "source": [
    "%sql select * from Specialities"
   ]
  },
  {
   "cell_type": "markdown",
   "id": "5e7f3563-047d-4989-988a-9fa3a678e7a5",
   "metadata": {},
   "source": [
    "# Задание 1"
   ]
  },
  {
   "cell_type": "code",
   "execution_count": 10,
   "id": "fbe57655-2331-4810-a4e5-022f6e60dc43",
   "metadata": {},
   "outputs": [
    {
     "name": "stdout",
     "output_type": "stream",
     "text": [
      " * sqlite://\n",
      "Done.\n"
     ]
    },
    {
     "data": {
      "text/html": [
       "<table>\n",
       "    <thead>\n",
       "        <tr>\n",
       "            <th>student_id</th>\n",
       "            <th>Name</th>\n",
       "            <th>SecondName</th>\n",
       "            <th>Speciality_id</th>\n",
       "            <th>StudyGroup</th>\n",
       "            <th>GPA</th>\n",
       "        </tr>\n",
       "    </thead>\n",
       "    <tbody>\n",
       "        <tr>\n",
       "            <td>6</td>\n",
       "            <td>Александр</td>\n",
       "            <td>Ширшов</td>\n",
       "            <td>2</td>\n",
       "            <td>06-20</td>\n",
       "            <td>3.91</td>\n",
       "        </tr>\n",
       "        <tr>\n",
       "            <td>13</td>\n",
       "            <td>Александр</td>\n",
       "            <td>Назаров</td>\n",
       "            <td>6</td>\n",
       "            <td>06-20</td>\n",
       "            <td>3.73</td>\n",
       "        </tr>\n",
       "    </tbody>\n",
       "</table>"
      ],
      "text/plain": [
       "[(6, 'Александр', 'Ширшов', 2, '06-20', 3.91),\n",
       " (13, 'Александр', 'Назаров', 6, '06-20', 3.73)]"
      ]
     },
     "execution_count": 10,
     "metadata": {},
     "output_type": "execute_result"
    }
   ],
   "source": [
    "%%sql\n",
    "select *\n",
    "from Students\n",
    "WHERE Name= 'Александр';"
   ]
  },
  {
   "cell_type": "markdown",
   "id": "08c9b102-2b0a-4009-91ef-44139959467b",
   "metadata": {},
   "source": [
    "# Задание 2"
   ]
  },
  {
   "cell_type": "code",
   "execution_count": 11,
   "id": "7218de13-3036-4959-93da-e9589c88a597",
   "metadata": {},
   "outputs": [
    {
     "name": "stdout",
     "output_type": "stream",
     "text": [
      " * sqlite://\n",
      "Done.\n"
     ]
    },
    {
     "data": {
      "text/html": [
       "<table>\n",
       "    <thead>\n",
       "        <tr>\n",
       "            <th>Name</th>\n",
       "        </tr>\n",
       "    </thead>\n",
       "    <tbody>\n",
       "        <tr>\n",
       "            <td>Биотехнические системы и технологии</td>\n",
       "        </tr>\n",
       "        <tr>\n",
       "            <td>Компьютерная безопасность</td>\n",
       "        </tr>\n",
       "        <tr>\n",
       "            <td>Информационная безопасность телекоммуникационных систем</td>\n",
       "        </tr>\n",
       "        <tr>\n",
       "            <td>Управление в технических системах</td>\n",
       "        </tr>\n",
       "    </tbody>\n",
       "</table>"
      ],
      "text/plain": [
       "[('Биотехнические системы и технологии',),\n",
       " ('Компьютерная безопасность',),\n",
       " ('Информационная безопасность телекоммуникационных систем',),\n",
       " ('Управление в технических системах',)]"
      ]
     },
     "execution_count": 11,
     "metadata": {},
     "output_type": "execute_result"
    }
   ],
   "source": [
    "%%sql\n",
    "select distinct p0.name\n",
    "from Specialities p0, Students\n",
    "where Speciality_id= p0.id and GPA>=4.5;"
   ]
  },
  {
   "cell_type": "markdown",
   "id": "68f239e2-a0d6-4aa2-b549-02339e36b875",
   "metadata": {},
   "source": [
    "# Задание 3"
   ]
  },
  {
   "cell_type": "code",
   "execution_count": 19,
   "id": "1fd90def-9da3-41d5-9f84-3c65f0e64d43",
   "metadata": {},
   "outputs": [
    {
     "name": "stdout",
     "output_type": "stream",
     "text": [
      " * sqlite://\n",
      "Done.\n"
     ]
    },
    {
     "data": {
      "text/html": [
       "<table>\n",
       "    <thead>\n",
       "        <tr>\n",
       "            <th>student_id</th>\n",
       "            <th>Name</th>\n",
       "            <th>SecondName</th>\n",
       "            <th>Speciality_id</th>\n",
       "            <th>StudyGroup</th>\n",
       "            <th>GPA</th>\n",
       "        </tr>\n",
       "    </thead>\n",
       "    <tbody>\n",
       "        <tr>\n",
       "            <td>8</td>\n",
       "            <td>Петр</td>\n",
       "            <td>Киселев</td>\n",
       "            <td>3</td>\n",
       "            <td>05-20</td>\n",
       "            <td>3.5</td>\n",
       "        </tr>\n",
       "        <tr>\n",
       "            <td>11</td>\n",
       "            <td>Екатерина</td>\n",
       "            <td>Комарова</td>\n",
       "            <td>6</td>\n",
       "            <td>02-20</td>\n",
       "            <td>4.83</td>\n",
       "        </tr>\n",
       "    </tbody>\n",
       "</table>"
      ],
      "text/plain": [
       "[(8, 'Петр', 'Киселев', 3, '05-20', 3.5),\n",
       " (11, 'Екатерина', 'Комарова', 6, '02-20', 4.83)]"
      ]
     },
     "execution_count": 19,
     "metadata": {},
     "output_type": "execute_result"
    }
   ],
   "source": [
    "%%sql\n",
    "select * \n",
    "from Students\n",
    "where secondname like'К%' and name like '%е%' "
   ]
  },
  {
   "cell_type": "markdown",
   "id": "604eda76-40d3-474e-8339-168b72c7c055",
   "metadata": {},
   "source": [
    "# Задание 4"
   ]
  },
  {
   "cell_type": "code",
   "execution_count": 15,
   "id": "f1357c5c-5c17-449b-a65e-60d9e47b7541",
   "metadata": {},
   "outputs": [
    {
     "name": "stdout",
     "output_type": "stream",
     "text": [
      " * sqlite://\n",
      "Done.\n"
     ]
    },
    {
     "data": {
      "text/html": [
       "<table>\n",
       "    <thead>\n",
       "        <tr>\n",
       "            <th>Name</th>\n",
       "            <th>GPA</th>\n",
       "        </tr>\n",
       "    </thead>\n",
       "    <tbody>\n",
       "        <tr>\n",
       "            <td>Биотехнические системы и технологии</td>\n",
       "            <td>3.58</td>\n",
       "        </tr>\n",
       "        <tr>\n",
       "            <td>Информационная безопасность телекоммуникационных систем</td>\n",
       "            <td>4.83</td>\n",
       "        </tr>\n",
       "        <tr>\n",
       "            <td>Компьютерная безопасность</td>\n",
       "            <td>4.83</td>\n",
       "        </tr>\n",
       "        <tr>\n",
       "            <td>Прикладная математика и информатика</td>\n",
       "            <td>3.8</td>\n",
       "        </tr>\n",
       "    </tbody>\n",
       "</table>"
      ],
      "text/plain": [
       "[('Биотехнические системы и технологии', 3.58),\n",
       " ('Информационная безопасность телекоммуникационных систем', 4.83),\n",
       " ('Компьютерная безопасность', 4.83),\n",
       " ('Прикладная математика и информатика', 3.8)]"
      ]
     },
     "execution_count": 15,
     "metadata": {},
     "output_type": "execute_result"
    }
   ],
   "source": [
    "%%sql\n",
    "select p0.name, gpa\n",
    "from Specialities p0, Students\n",
    "where Speciality_id= p0.id \n",
    "group by p0.name having count(distinct StudyGroup) > 1"
   ]
  },
  {
   "cell_type": "markdown",
   "id": "8e905218-6b82-4523-a507-8a50e40a6f0b",
   "metadata": {},
   "source": [
    "# Задание 5"
   ]
  },
  {
   "cell_type": "code",
   "execution_count": 16,
   "id": "e3966c7c-82d7-4b80-a1b3-26b959cbc5ea",
   "metadata": {},
   "outputs": [
    {
     "name": "stdout",
     "output_type": "stream",
     "text": [
      " * sqlite://\n",
      "Done.\n"
     ]
    },
    {
     "data": {
      "text/html": [
       "<table>\n",
       "    <thead>\n",
       "        <tr>\n",
       "            <th>Name</th>\n",
       "            <th>GPA</th>\n",
       "        </tr>\n",
       "    </thead>\n",
       "    <tbody>\n",
       "        <tr>\n",
       "            <td>Биотехнические системы и технологии</td>\n",
       "            <td>3.58</td>\n",
       "        </tr>\n",
       "        <tr>\n",
       "            <td>Компьютерная безопасность</td>\n",
       "            <td>4.83</td>\n",
       "        </tr>\n",
       "    </tbody>\n",
       "</table>"
      ],
      "text/plain": [
       "[('Биотехнические системы и технологии', 3.58),\n",
       " ('Компьютерная безопасность', 4.83)]"
      ]
     },
     "execution_count": 16,
     "metadata": {},
     "output_type": "execute_result"
    }
   ],
   "source": [
    "%%sql\n",
    "select p.name, gpa\n",
    "from Students, Specialities p\n",
    "where Speciality_id= p.id and SecondName not like '_а%' \n",
    "group by Speciality_id having count(SecondName) > 2"
   ]
  },
  {
   "cell_type": "code",
   "execution_count": null,
   "id": "521b6e80-549c-4187-954b-dd0ba04aa99f",
   "metadata": {},
   "outputs": [],
   "source": []
  }
 ],
 "metadata": {
  "kernelspec": {
   "display_name": "Python 3 (ipykernel)",
   "language": "python",
   "name": "python3"
  },
  "language_info": {
   "codemirror_mode": {
    "name": "ipython",
    "version": 3
   },
   "file_extension": ".py",
   "mimetype": "text/x-python",
   "name": "python",
   "nbconvert_exporter": "python",
   "pygments_lexer": "ipython3",
   "version": "3.11.5"
  }
 },
 "nbformat": 4,
 "nbformat_minor": 5
}
